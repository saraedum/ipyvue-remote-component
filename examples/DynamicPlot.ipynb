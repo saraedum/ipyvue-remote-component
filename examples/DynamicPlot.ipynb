{
 "cells": [
  {
   "cell_type": "markdown",
   "id": "closed-hunger",
   "metadata": {},
   "source": [
    "# Interactive Plots with Plotly"
   ]
  },
  {
   "cell_type": "code",
   "execution_count": 1,
   "id": "flexible-programming",
   "metadata": {},
   "outputs": [],
   "source": [
    "from traitlets import Unicode, List, Float\n",
    "from ipyvue import VueTemplate\n",
    "from ipyvue_remote_component import RemoteComponent"
   ]
  },
  {
   "cell_type": "markdown",
   "id": "fewer-survival",
   "metadata": {},
   "source": [
    "We define a Widget that uses [vue-plotly](https://david-desmaisons.github.io/vue-plotly/) to show a [scatter plot](https://plotly.com/javascript/line-and-scatter/)."
   ]
  },
  {
   "cell_type": "code",
   "execution_count": 2,
   "id": "regional-index",
   "metadata": {},
   "outputs": [],
   "source": [
    "class Plotly(VueTemplate, RemoteComponent):\n",
    "    def update(self, *points):\n",
    "        self.x = [p[0] for p in points]\n",
    "        self.y = [p[1] for p in points]\n",
    "        \n",
    "    x = List(trait=Float()).tag(sync=True)\n",
    "    y = List(trait=Float()).tag(sync=True)\n",
    "    template = Unicode(r\"\"\"\n",
    "    <remote-component\n",
    "        url=\"https://unpkg.com/vue-plotly@^1/dist/vue-plotly.umd.min.js\"\n",
    "        :extract=\"library => library.Plotly\"\n",
    "        :data=\"[{ x, y, type: 'scatter' }]\"\n",
    "    />\n",
    "    \"\"\").tag(sync=True)"
   ]
  },
  {
   "cell_type": "code",
   "execution_count": 3,
   "id": "interior-plate",
   "metadata": {},
   "outputs": [
    {
     "data": {
      "application/vnd.jupyter.widget-view+json": {
       "model_id": "3ad7856a5a1d4143a73537358948dddc",
       "version_major": 2,
       "version_minor": 0
      },
      "text/plain": [
       "Plotly()"
      ]
     },
     "metadata": {},
     "output_type": "display_data"
    }
   ],
   "source": [
    "plot = Plotly()\n",
    "plot"
   ]
  },
  {
   "cell_type": "markdown",
   "id": "direct-basketball",
   "metadata": {},
   "source": [
    "Calling `.update()` changes the content of the plot."
   ]
  },
  {
   "cell_type": "code",
   "execution_count": 4,
   "id": "ordered-cleanup",
   "metadata": {},
   "outputs": [],
   "source": [
    "plot.update((1,1), (2,1), (3,2), (4, 2))"
   ]
  },
  {
   "cell_type": "markdown",
   "id": "recognized-cedar",
   "metadata": {},
   "source": [
    "Or link a button to the `update()` method."
   ]
  },
  {
   "cell_type": "code",
   "execution_count": 5,
   "id": "naval-economy",
   "metadata": {},
   "outputs": [
    {
     "data": {
      "application/vnd.jupyter.widget-view+json": {
       "model_id": "fc5ac8600a99455182f443ded03c8ff4",
       "version_major": 2,
       "version_minor": 0
      },
      "text/plain": [
       "Button(description='Reset Plot', style=ButtonStyle())"
      ]
     },
     "metadata": {},
     "output_type": "display_data"
    }
   ],
   "source": [
    "from ipywidgets import Button\n",
    "button = Button(description=\"Reset Plot\")\n",
    "button.click = lambda: plot.update()\n",
    "button"
   ]
  },
  {
   "cell_type": "markdown",
   "id": "offensive-mission",
   "metadata": {},
   "source": [
    "Note that you cannot use this for real-time plots. The communication channel between frontend and backend gets saturated quickly and you will see old data (and your notebook stops to be reactive.) See [ipyvue-time-series](https://github.com/saraedum/ipyvue-time-series) for a package that builds on ipyvue-remote-component to produce real-time plots."
   ]
  },
  {
   "cell_type": "code",
   "execution_count": 6,
   "id": "corrected-empty",
   "metadata": {},
   "outputs": [],
   "source": [
    "from random import randrange\n",
    "\n",
    "for i in range(100):\n",
    "    plot.update(*[(x, randrange(0, 20)) for x in range(20)])"
   ]
  }
 ],
 "metadata": {
  "kernelspec": {
   "display_name": "Python 3",
   "language": "python",
   "name": "python3"
  },
  "language_info": {
   "codemirror_mode": {
    "name": "ipython",
    "version": 3
   },
   "file_extension": ".py",
   "mimetype": "text/x-python",
   "name": "python",
   "nbconvert_exporter": "python",
   "pygments_lexer": "ipython3",
   "version": "3.9.1"
  }
 },
 "nbformat": 4,
 "nbformat_minor": 5
}
