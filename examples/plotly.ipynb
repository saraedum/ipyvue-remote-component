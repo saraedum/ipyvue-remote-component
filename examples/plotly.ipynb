{
 "cells": [
  {
   "cell_type": "code",
   "execution_count": 1,
   "metadata": {},
   "outputs": [],
   "source": [
    "from traitlets import Unicode\n",
    "from ipyvue import VueTemplate\n",
    "\n",
    "class Plotly(VueTemplate):\n",
    "    template = Unicode(r\"\"\"\n",
    "    <remote-component url=\"https://unpkg.com/vue-plotly@^1/dist/vue-plotly.umd.min.js\" :extract=\"library => library.Plotly\" :props=\"{ data: [{ x: [0, 1, 2, 3], y: [1, 3, 3, 7], type: 'scatter' }] }\" />\n",
    "    \"\"\").tag(sync=True)"
   ]
  },
  {
   "cell_type": "code",
   "execution_count": 2,
   "metadata": {},
   "outputs": [
    {
     "data": {
      "application/vnd.jupyter.widget-view+json": {
       "model_id": "3f7ce08a01874478b30e83574c57fdc5",
       "version_major": 2,
       "version_minor": 0
      },
      "text/plain": [
       "Plotly()"
      ]
     },
     "metadata": {},
     "output_type": "display_data"
    }
   ],
   "source": [
    "Plotly()"
   ]
  }
 ],
 "metadata": {
  "kernelspec": {
   "display_name": "Python 3",
   "language": "python",
   "name": "python3"
  },
  "language_info": {
   "codemirror_mode": {
    "name": "ipython",
    "version": 3
   },
   "file_extension": ".py",
   "mimetype": "text/x-python",
   "name": "python",
   "nbconvert_exporter": "python",
   "pygments_lexer": "ipython3",
   "version": "3.7.6"
  }
 },
 "nbformat": 4,
 "nbformat_minor": 4
}
