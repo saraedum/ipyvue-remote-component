{
 "cells": [
  {
   "cell_type": "markdown",
   "id": "sticky-diversity",
   "metadata": {},
   "source": [
    "# Loading a Vue Component from NPM"
   ]
  },
  {
   "cell_type": "code",
   "execution_count": null,
   "id": "scientific-camping",
   "metadata": {},
   "outputs": [],
   "source": [
    "from traitlets import Unicode\n",
    "from ipyvue import VueTemplate\n",
    "from ipyvue_remote_component import RemoteComponent"
   ]
  },
  {
   "cell_type": "markdown",
   "id": "isolated-emperor",
   "metadata": {},
   "source": [
    "### A simple [plotly](https://plotly.com/) plot with Vue.js"
   ]
  },
  {
   "cell_type": "code",
   "execution_count": null,
   "id": "complimentary-multiple",
   "metadata": {},
   "outputs": [],
   "source": [
    "class Plotly(VueTemplate, RemoteComponent):\n",
    "    template = Unicode(r\"\"\"\n",
    "    <remote-component\n",
    "        url=\"https://unpkg.com/vue-plotly@^1/dist/vue-plotly.umd.min.js\"\n",
    "        integrity=\"sha384-3YjbENL4Izchmbn7RCdWL5tHYGPP7fy2B/vzCgBd3corbolRfPgjimXK4JEwGpYg\"\n",
    "        :extract=\"library => library.Plotly\"\n",
    "        :data=\"[{ x: [0, 1, 2, 3], y: [1, 3, 3, 7], type: 'scatter' }]\"\n",
    "    />\n",
    "    \"\"\").tag(sync=True)"
   ]
  },
  {
   "cell_type": "code",
   "execution_count": null,
   "id": "protective-norway",
   "metadata": {},
   "outputs": [],
   "source": [
    "Plotly()"
   ]
  }
 ],
 "metadata": {
  "kernelspec": {
   "display_name": "Python 3",
   "language": "python",
   "name": "python3"
  },
  "language_info": {
   "codemirror_mode": {
    "name": "ipython",
    "version": 3
   },
   "file_extension": ".py",
   "mimetype": "text/x-python",
   "name": "python",
   "nbconvert_exporter": "python",
   "pygments_lexer": "ipython3",
   "version": "3.8.6"
  }
 },
 "nbformat": 4,
 "nbformat_minor": 5
}
