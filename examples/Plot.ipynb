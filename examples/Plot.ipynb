{
 "cells": [
  {
   "cell_type": "markdown",
   "id": "meaning-basic",
   "metadata": {},
   "source": [
    "# Loading a Vue Component from NPM"
   ]
  },
  {
   "cell_type": "code",
   "execution_count": 1,
   "id": "complex-quantity",
   "metadata": {},
   "outputs": [],
   "source": [
    "from traitlets import Unicode\n",
    "from ipyvue import VueTemplate\n",
    "from ipyvue_remote_component import RemoteComponent"
   ]
  },
  {
   "cell_type": "markdown",
   "id": "meaning-reception",
   "metadata": {},
   "source": [
    "### A simple [plotly](https://plotly.com/) plot with Vue.js"
   ]
  },
  {
   "cell_type": "code",
   "execution_count": 2,
   "id": "excess-listing",
   "metadata": {},
   "outputs": [],
   "source": [
    "class Plotly(VueTemplate, RemoteComponent):\n",
    "    template = Unicode(r\"\"\"\n",
    "    <remote-component\n",
    "        url=\"https://unpkg.com/vue-plotly@^1/dist/vue-plotly.umd.min.js\"\n",
    "        :extract=\"library => library.Plotly\"\n",
    "        :data=\"[{ x: [0, 1, 2, 3], y: [1, 3, 3, 7], type: 'scatter' }]\"\n",
    "    />\n",
    "    \"\"\").tag(sync=True)"
   ]
  },
  {
   "cell_type": "code",
   "execution_count": 3,
   "id": "adjusted-cross",
   "metadata": {},
   "outputs": [
    {
     "data": {
      "application/vnd.jupyter.widget-view+json": {
       "model_id": "19559d11459244b297c80a1ab98eae22",
       "version_major": 2,
       "version_minor": 0
      },
      "text/plain": [
       "Plotly()"
      ]
     },
     "metadata": {},
     "output_type": "display_data"
    }
   ],
   "source": [
    "Plotly()"
   ]
  }
 ],
 "metadata": {
  "kernelspec": {
   "display_name": "Python 3",
   "language": "python",
   "name": "python3"
  },
  "language_info": {
   "codemirror_mode": {
    "name": "ipython",
    "version": 3
   },
   "file_extension": ".py",
   "mimetype": "text/x-python",
   "name": "python",
   "nbconvert_exporter": "python",
   "pygments_lexer": "ipython3",
   "version": "3.9.1"
  }
 },
 "nbformat": 4,
 "nbformat_minor": 5
}
